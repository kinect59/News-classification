{
 "cells": [
  {
   "cell_type": "markdown",
   "metadata": {},
   "source": [
    "# 103590450 四資四 馬茂源"
   ]
  },
  {
   "cell_type": "markdown",
   "metadata": {},
   "source": [
    "## 系統需求\n",
    "* RAM >= 30GB\n",
    "* CPU >= i7 \n",
    "* GPU >= GTX1060 6GB"
   ]
  },
  {
   "cell_type": "markdown",
   "metadata": {},
   "source": [
    "# 問題與資料\n",
    "   * 為何要分類新聞呢\n",
    "       * 其實這個classification model用途，我認為不是只用來分類，是他有一些特性可以幫助人類，有幾個情境是這樣:\n",
    "           * 記者寫了一篇文章，假設是國際新聞，應當放在國際新聞的版面上，但通常新聞的屬性都會overlap，有可能跟政治或商業有點相關，所以除了要放置在國際版面，在商業或是政治版面應該也可以放置，只是放置的修先度要比純商業新聞低或是純政治新聞低，這要如何找出之間的屬性比例，人太主觀，但神經網路的softmax輸出就很有用了。\n",
    "           * 某news feed APP可以讓使用者客製自己想要看的取向，某位使用者喜歡看國際商業新聞(國際70%商業30%)，也就是說新聞屬性要國際也要商業，如果單純從網路新聞來搜尋衛報國際新聞一遍再搜尋商業新聞一遍，再找出有沒有相同的新聞，比例怎檢測，實在是很痛苦，這時候就需要ML model了。\n",
    "           \n",
    "   * 其實我從大二開始就一直在玩這個data set，但之前只是用邏輯回歸或MLP搭配TF-IDF去做，有效精準度大概都在86%~88%，而且那時候data set大小大概才20W筆，用這種簡單的抽象化會有一個嚴重的問題，當你的data set變大時(等於你資料複雜度增加)，精準度會降低(代表這抽象化會損失很多語意特徵)，像這次我重新收集的data set(50W)用之前的方法，精準度就降低到7X%。\n",
    "    \n",
    "    而這次我用[GloVe](https://nlp.stanford.edu/projects/glove/) embeddings來抽象化資料，是一種word embedding的技術，把word vector map到一個比較小的維度，可用來表示詞對詞之間的關係，等等我會把GloVe嵌進我的CNN的第一個layer。\n",
    "    \n",
    "\n",
    "   * (請務必註明資料來源、以及要解決問題):\n",
    "       * 資料的部分我使用**我自己寫**的[python爬蟲框架(滿厲害的，可以支援async跟multithread)](https://github.com/brian41005/pycheetah)來蒐集[英國衛報](https://www.theguardian.com/international)的網路新聞\n",
    "       * 解決問題:我這次要把有效精準度飆出來\n",
    "       \n",
    "       \n",
    "   * (說明訓練資料個數、測試資料個數):\n",
    "       * 我蒐集了2010~2017的衛報新聞，約有497657新聞資料\n",
    "       * 以0.8的比例拆分成train data跟test data\n",
    "       * 這次訓練我不用Cross-validation因為data set夠大。\n",
    "   \n"
   ]
  },
  {
   "cell_type": "code",
   "execution_count": 1,
   "metadata": {},
   "outputs": [
    {
     "name": "stderr",
     "output_type": "stream",
     "text": [
      "c:\\python36\\lib\\site-packages\\h5py\\__init__.py:36: FutureWarning: Conversion of the second argument of issubdtype from `float` to `np.floating` is deprecated. In future, it will be treated as `np.float64 == np.dtype(float).type`.\n",
      "  from ._conv import register_converters as _register_converters\n",
      "Using TensorFlow backend.\n"
     ]
    }
   ],
   "source": [
    "import pandas as pd\n",
    "import numpy as np\n",
    "import time\n",
    "import tensorflow as tf\n",
    "\n",
    "from keras.models import Sequential\n",
    "from keras.layers import Dense, Dropout, Embedding, Conv1D, MaxPooling1D, Flatten\n",
    "from keras.utils import np_utils\n",
    "from keras.callbacks import ModelCheckpoint\n",
    "from keras.preprocessing import text, sequence\n",
    "from keras import backend as K\n",
    "\n",
    "from sklearn.model_selection import train_test_split\n",
    "from sklearn.metrics import confusion_matrix, classification_report\n",
    "from sklearn.preprocessing import LabelEncoder\n",
    "from matplotlib import pyplot as plt"
   ]
  },
  {
   "cell_type": "code",
   "execution_count": 2,
   "metadata": {
    "collapsed": true
   },
   "outputs": [],
   "source": [
    "t0 = time.time()"
   ]
  },
  {
   "cell_type": "code",
   "execution_count": 3,
   "metadata": {
    "collapsed": true
   },
   "outputs": [],
   "source": [
    "data = pd.read_csv('theguardian.csv')\n",
    "#url 用不到\n",
    "data = data.drop('url', 1)"
   ]
  },
  {
   "cell_type": "code",
   "execution_count": 4,
   "metadata": {
    "scrolled": false
   },
   "outputs": [
    {
     "name": "stdout",
     "output_type": "stream",
     "text": [
      "(497657, 3)\n"
     ]
    },
    {
     "data": {
      "text/html": [
       "<div>\n",
       "<style>\n",
       "    .dataframe thead tr:only-child th {\n",
       "        text-align: right;\n",
       "    }\n",
       "\n",
       "    .dataframe thead th {\n",
       "        text-align: left;\n",
       "    }\n",
       "\n",
       "    .dataframe tbody tr th {\n",
       "        vertical-align: top;\n",
       "    }\n",
       "</style>\n",
       "<table border=\"1\" class=\"dataframe\">\n",
       "  <thead>\n",
       "    <tr style=\"text-align: right;\">\n",
       "      <th></th>\n",
       "      <th>name</th>\n",
       "      <th>article</th>\n",
       "      <th>category</th>\n",
       "    </tr>\n",
       "  </thead>\n",
       "  <tbody>\n",
       "    <tr>\n",
       "      <th>0</th>\n",
       "      <td>Peter Moore appeals for privacy after return f...</td>\n",
       "      <td>Peter Moore  the British hostage freed in Iraq...</td>\n",
       "      <td>world</td>\n",
       "    </tr>\n",
       "    <tr>\n",
       "      <th>1</th>\n",
       "      <td>Ex-hostage Peter Moore may have 'strong bond' ...</td>\n",
       "      <td>Peter Moore may have developed profound emotio...</td>\n",
       "      <td>uk</td>\n",
       "    </tr>\n",
       "    <tr>\n",
       "      <th>2</th>\n",
       "      <td>Abdurrahman Wahid obituary</td>\n",
       "      <td>The former Indonesian president Abdurrahman Wa...</td>\n",
       "      <td>theguardian</td>\n",
       "    </tr>\n",
       "    <tr>\n",
       "      <th>3</th>\n",
       "      <td>Man who broke into Danish cartoonist's home ha...</td>\n",
       "      <td>A Somalian man caught breaking into the home o...</td>\n",
       "      <td>world</td>\n",
       "    </tr>\n",
       "    <tr>\n",
       "      <th>4</th>\n",
       "      <td>Assassin shot in cartoonist's home has links t...</td>\n",
       "      <td>Danish police admitted yesterday that Somalian...</td>\n",
       "      <td>world</td>\n",
       "    </tr>\n",
       "  </tbody>\n",
       "</table>\n",
       "</div>"
      ],
      "text/plain": [
       "                                                name  \\\n",
       "0  Peter Moore appeals for privacy after return f...   \n",
       "1  Ex-hostage Peter Moore may have 'strong bond' ...   \n",
       "2                         Abdurrahman Wahid obituary   \n",
       "3  Man who broke into Danish cartoonist's home ha...   \n",
       "4  Assassin shot in cartoonist's home has links t...   \n",
       "\n",
       "                                             article     category  \n",
       "0  Peter Moore  the British hostage freed in Iraq...        world  \n",
       "1  Peter Moore may have developed profound emotio...           uk  \n",
       "2  The former Indonesian president Abdurrahman Wa...  theguardian  \n",
       "3  A Somalian man caught breaking into the home o...        world  \n",
       "4  Danish police admitted yesterday that Somalian...        world  "
      ]
     },
     "execution_count": 4,
     "metadata": {},
     "output_type": "execute_result"
    }
   ],
   "source": [
    "print(data.shape)\n",
    "data.head()\n",
    "# 約有497657新聞資料，不過我門等下進行資料處理後實際上的數量可能會一再少一點點"
   ]
  },
  {
   "cell_type": "code",
   "execution_count": 5,
   "metadata": {
    "collapsed": true
   },
   "outputs": [],
   "source": [
    "FEATURE = 'article'\n",
    "#FEATURE = 'name' \n",
    "LABEL = 'category'"
   ]
  },
  {
   "cell_type": "markdown",
   "metadata": {},
   "source": [
    "### 英國衛報大致上分成這幾個種類，有些數量稀少的種類我們把它忽略掉"
   ]
  },
  {
   "cell_type": "code",
   "execution_count": 6,
   "metadata": {
    "collapsed": true
   },
   "outputs": [],
   "source": [
    "category = [\"world\",\"politics\",\"sport\",\"football\",\"culture\",\"business\",\n",
    "                  \"lifeandstyle\", \"fashion\",\"environment\",\"technology\",\"travel\"]\n",
    "data = data.loc[data['category'].isin(category)]"
   ]
  },
  {
   "cell_type": "code",
   "execution_count": 7,
   "metadata": {
    "collapsed": true
   },
   "outputs": [],
   "source": [
    "#刪除空值的data point\n",
    "data = data.dropna(axis=0, how='any')"
   ]
  },
  {
   "cell_type": "code",
   "execution_count": 8,
   "metadata": {
    "collapsed": true
   },
   "outputs": [],
   "source": [
    "FRAC = 1"
   ]
  },
  {
   "cell_type": "code",
   "execution_count": 9,
   "metadata": {},
   "outputs": [
    {
     "name": "stdout",
     "output_type": "stream",
     "text": [
      "使用431629*1=431629筆新聞\n"
     ]
    }
   ],
   "source": [
    "n = int(data.shape[0]*FRAC)\n",
    "data = data.sample(n=n)\n",
    "print('使用{}*{}={}筆新聞'.format(data.shape[0], FRAC, n))"
   ]
  },
  {
   "cell_type": "markdown",
   "metadata": {},
   "source": [
    "## 接著，我們來進行資料前處理\n",
    "### 我們先對label 做 one hot encoding，這是為了之後神經網路輸出而做準備"
   ]
  },
  {
   "cell_type": "code",
   "execution_count": 10,
   "metadata": {
    "collapsed": true
   },
   "outputs": [],
   "source": [
    "Y = data.as_matrix(columns=[LABEL]).reshape(-1)\n",
    "le = LabelEncoder()\n",
    "le.fit(Y)\n",
    "num_classes = len(list(le.classes_))\n",
    "Y = le.transform(Y)"
   ]
  },
  {
   "cell_type": "code",
   "execution_count": 11,
   "metadata": {
    "scrolled": true
   },
   "outputs": [
    {
     "data": {
      "text/plain": [
       "array([[0., 0., 0., ..., 0., 0., 0.],\n",
       "       [0., 0., 0., ..., 0., 0., 0.],\n",
       "       [0., 0., 0., ..., 1., 0., 0.],\n",
       "       ...,\n",
       "       [0., 0., 0., ..., 0., 0., 0.],\n",
       "       [0., 0., 0., ..., 0., 0., 0.],\n",
       "       [0., 0., 0., ..., 0., 0., 0.]])"
      ]
     },
     "execution_count": 11,
     "metadata": {},
     "output_type": "execute_result"
    }
   ],
   "source": [
    "Y = np_utils.to_categorical(Y, num_classes)\n",
    "Y"
   ]
  },
  {
   "cell_type": "code",
   "execution_count": 12,
   "metadata": {},
   "outputs": [
    {
     "data": {
      "text/plain": [
       "(431629, 11)"
      ]
     },
     "execution_count": 12,
     "metadata": {},
     "output_type": "execute_result"
    }
   ],
   "source": [
    "Y.shape"
   ]
  },
  {
   "cell_type": "markdown",
   "metadata": {},
   "source": [
    "### 每個種類的新聞的數量都不太一樣，所以為了不讓這種比例偏差影響訓練，我們要計算每個種類的權重"
   ]
  },
  {
   "cell_type": "code",
   "execution_count": 13,
   "metadata": {
    "scrolled": true
   },
   "outputs": [
    {
     "data": {
      "text/plain": [
       "{0: 0.894091916900857,\n",
       " 1: 0.9800963327301919,\n",
       " 2: 0.9436020285940009,\n",
       " 3: 0.9853230436323788,\n",
       " 4: 0.815244110103816,\n",
       " 5: 0.9038850494290236,\n",
       " 6: 0.9209691656492034,\n",
       " 7: 0.8064194018474199,\n",
       " 8: 0.9546439187357662,\n",
       " 9: 0.9791371756763332,\n",
       " 10: 0.8165878567010094}"
      ]
     },
     "execution_count": 13,
     "metadata": {},
     "output_type": "execute_result"
    }
   ],
   "source": [
    "class_weight = {}\n",
    "weight = np.sum(Y, axis=0)\n",
    "total = Y.shape[0]\n",
    "for i in range(11):\n",
    "    class_weight[i] = 1-weight[i]/total\n",
    "class_weight"
   ]
  },
  {
   "cell_type": "markdown",
   "metadata": {},
   "source": [
    "### 現在我們來處理標題(input seq)"
   ]
  },
  {
   "cell_type": "code",
   "execution_count": 14,
   "metadata": {
    "collapsed": true
   },
   "outputs": [],
   "source": [
    "MAX_SEQUENCE_LENGTH = 2000\n",
    "EMBEDDING_DIM = 300"
   ]
  },
  {
   "cell_type": "code",
   "execution_count": 15,
   "metadata": {},
   "outputs": [],
   "source": [
    "texts = data[FEATURE].values.tolist()\n",
    "tokenizer = text.Tokenizer(num_words=None,\n",
    "                           filters='!\"#$%&()*+,-./:;<=>?@[\\\\]^_`{|}~\\t\\n\\'',\n",
    "                           lower=True,\n",
    "                           split=\" \",\n",
    "                           char_level=False)\n",
    "tokenizer.fit_on_texts(texts)\n",
    "sequences  = tokenizer.texts_to_sequences(texts)"
   ]
  },
  {
   "cell_type": "code",
   "execution_count": 16,
   "metadata": {},
   "outputs": [
    {
     "name": "stdout",
     "output_type": "stream",
     "text": [
      "(431629, 2000)\n"
     ]
    },
    {
     "data": {
      "text/plain": [
       "array([[     0,      0,      0, ...,    575,   6475,  12184],\n",
       "       [     0,      0,      0, ...,    526,    133,    125],\n",
       "       [     0,      0,      0, ...,   3312,     10,    983],\n",
       "       ...,\n",
       "       [     0,      0,      0, ...,    858,      3,      6],\n",
       "       [     0,      0,      0, ..., 844699,  26433,    529],\n",
       "       [     0,      0,      0, ...,     14,     15,    146]])"
      ]
     },
     "execution_count": 16,
     "metadata": {},
     "output_type": "execute_result"
    }
   ],
   "source": [
    "word_index = tokenizer.word_index\n",
    "X = sequence.pad_sequences(sequences, maxlen=MAX_SEQUENCE_LENGTH)\n",
    "print(X.shape)\n",
    "X"
   ]
  },
  {
   "cell_type": "markdown",
   "metadata": {},
   "source": [
    "# 分析方法\n",
    "   * Embedding layer是套stanford的 GloVe matrix，但我把MAX_SEQUENCE_LENGTH設為2000，我電腦沒那麼好只能折衷。\n",
    "   * 使用CNN的window原理一層一層抽取Embedding layer的輸出，找出high level features，之後做flatten去套MLP。\n",
    "   * 搭配一維的CNN來進行分類, Conv1D(64, 15, activation='relu')\n",
    "       * window原本我是用128，但損失的特徵太多，所以改用64\n",
    "       * kernel size 原本是10，後來還是無法突破改增加成15\n",
    "   * 我有在MLP加入Dropout(0.5)來避免overfitting\n",
    "   * 雖然relu訓練比較快但訓練的精準度的極限也會被限制住，所以倒數第2層我改用tanh\n",
    "   * optimizer 我選擇RMSprop，之前玩過其他的效果都沒有這個好(learning rate手調真的會調到天荒地老)，所以這次直接選用RMSprop\n",
    "   * bias_initializer='RandomNormal'，防止relu 太早變成dead node(relu一旦變成0，他的gradient就是0，之後就失去修正能力)"
   ]
  },
  {
   "cell_type": "markdown",
   "metadata": {},
   "source": [
    "### 我這次使用Word embeddings來抽象畫資料，所以我們要準備embedding layer"
   ]
  },
  {
   "cell_type": "code",
   "execution_count": 17,
   "metadata": {
    "collapsed": true
   },
   "outputs": [],
   "source": [
    "embeddings_index = {}\n",
    "with open('glove.6B.300d.txt', encoding='utf8') as f:\n",
    "    for line in f:\n",
    "        values = line.split()\n",
    "        word = values[0]\n",
    "        coefs = np.asarray(values[1:],dtype='float32')\n",
    "        embeddings_index[word] = coefs"
   ]
  },
  {
   "cell_type": "code",
   "execution_count": 18,
   "metadata": {
    "collapsed": true
   },
   "outputs": [],
   "source": [
    "embedding_matrix = np.zeros((len(word_index) + 1, EMBEDDING_DIM))\n",
    "for word, i in word_index.items():\n",
    "    embedding_vector = embeddings_index.get(word)\n",
    "    if embedding_vector is not None:\n",
    "        embedding_matrix[i] = embedding_vector"
   ]
  },
  {
   "cell_type": "code",
   "execution_count": 19,
   "metadata": {
    "scrolled": true
   },
   "outputs": [
    {
     "data": {
      "text/plain": [
       "array([[ 0.        ,  0.        ,  0.        , ...,  0.        ,\n",
       "         0.        ,  0.        ],\n",
       "       [ 0.04656   ,  0.21318001, -0.0074364 , ...,  0.0090611 ,\n",
       "        -0.20988999,  0.053913  ],\n",
       "       [-0.25756001, -0.057132  , -0.67189997, ..., -0.16043   ,\n",
       "         0.046744  , -0.070621  ],\n",
       "       ...,\n",
       "       [ 0.        ,  0.        ,  0.        , ...,  0.        ,\n",
       "         0.        ,  0.        ],\n",
       "       [ 0.        ,  0.        ,  0.        , ...,  0.        ,\n",
       "         0.        ,  0.        ],\n",
       "       [ 0.        ,  0.        ,  0.        , ...,  0.        ,\n",
       "         0.        ,  0.        ]])"
      ]
     },
     "execution_count": 19,
     "metadata": {},
     "output_type": "execute_result"
    }
   ],
   "source": [
    "embedding_matrix"
   ]
  },
  {
   "cell_type": "code",
   "execution_count": 20,
   "metadata": {
    "collapsed": true
   },
   "outputs": [],
   "source": [
    "X_train, X_test, y_train, y_test = train_test_split(X, Y, train_size=0.8)"
   ]
  },
  {
   "cell_type": "code",
   "execution_count": 21,
   "metadata": {
    "collapsed": true
   },
   "outputs": [],
   "source": [
    "K.clear_session()\n",
    "config = tf.ConfigProto()\n",
    "config.gpu_options.per_process_gpu_memory_fraction = 0.9\n",
    "K.set_session(tf.Session(config=config))"
   ]
  },
  {
   "cell_type": "code",
   "execution_count": 22,
   "metadata": {},
   "outputs": [
    {
     "name": "stdout",
     "output_type": "stream",
     "text": [
      "_________________________________________________________________\n",
      "Layer (type)                 Output Shape              Param #   \n",
      "=================================================================\n",
      "embedding_1 (Embedding)      (None, 2000, 300)         253410000 \n",
      "_________________________________________________________________\n",
      "conv1d_1 (Conv1D)            (None, 1986, 64)          288064    \n",
      "_________________________________________________________________\n",
      "max_pooling1d_1 (MaxPooling1 (None, 397, 64)           0         \n",
      "_________________________________________________________________\n",
      "conv1d_2 (Conv1D)            (None, 383, 64)           61504     \n",
      "_________________________________________________________________\n",
      "max_pooling1d_2 (MaxPooling1 (None, 76, 64)            0         \n",
      "_________________________________________________________________\n",
      "flatten_1 (Flatten)          (None, 4864)              0         \n",
      "_________________________________________________________________\n",
      "dense_1 (Dense)              (None, 64)                311360    \n",
      "_________________________________________________________________\n",
      "dropout_1 (Dropout)          (None, 64)                0         \n",
      "_________________________________________________________________\n",
      "dense_2 (Dense)              (None, 64)                4160      \n",
      "_________________________________________________________________\n",
      "dropout_2 (Dropout)          (None, 64)                0         \n",
      "_________________________________________________________________\n",
      "dense_3 (Dense)              (None, 11)                715       \n",
      "=================================================================\n",
      "Total params: 254,075,803\n",
      "Trainable params: 665,803\n",
      "Non-trainable params: 253,410,000\n",
      "_________________________________________________________________\n"
     ]
    }
   ],
   "source": [
    "model = Sequential()\n",
    "model.add(Embedding(input_dim=len(word_index) + 1,\n",
    "                    output_dim=EMBEDDING_DIM,\n",
    "                    weights=[embedding_matrix],\n",
    "                    input_length=MAX_SEQUENCE_LENGTH,\n",
    "                    trainable=False))\n",
    "\n",
    "model.add(Conv1D(64, 15, activation='relu'))\n",
    "model.add(MaxPooling1D(5))\n",
    "model.add(Conv1D(64, 15, activation='relu'))\n",
    "model.add(MaxPooling1D(5))\n",
    "\n",
    "\n",
    "model.add(Flatten())\n",
    "\n",
    "model.add(Dense(64, activation='relu', bias_initializer='RandomNormal'))\n",
    "model.add(Dropout(0.5))\n",
    "model.add(Dense(64, activation='tanh', bias_initializer='RandomNormal'))\n",
    "model.add(Dropout(0.5))\n",
    "model.add(Dense(num_classes, activation='softmax'))\n",
    "\n",
    "\n",
    "\n",
    "model.compile(optimizer='RMSprop',\n",
    "              loss='categorical_crossentropy',\n",
    "              metrics=['accuracy'])\n",
    "model.summary()"
   ]
  },
  {
   "cell_type": "markdown",
   "metadata": {},
   "source": [
    "# 分析結果\n",
    "   * (請務必描述用此分析方法解決此問題的結果):\n",
    "       * 我其實跑過10以上的迭代，但是基本上在5以後val error都是上升(overfitting)，所以後來我就設定5\n",
    "       * 使用ModelCheckpoint去記錄每次epoch的model weights, save_best_only設定為true(我只要記錄最好的那次的weights)\n",
    "       * 跑完後我重新 reload最好的那一次的weights然後進行之後的評估\n",
    "       * 結果:我最終達到我自己設定的目標了~ \n",
    "       \n",
    "       \n",
    "   * (說明模型的準確度):\n",
    "       * 下面我有print出metric\n",
    "       * 結論:每個分類的recall和precision沒有差太多，但是時尚類別等資料比較少的類別準確度還是低一些，畢竟資料少影響力就低。雖然這次達到接近91%但我不確定可不可以再繼續提高，有可能我參數調的不夠好，也有可能我在抽象化過程中損失太多特徵，MAX_SEQUENCE_LENGTH也許之後電腦變好的話可以調更高來獲得更多的特徵。"
   ]
  },
  {
   "cell_type": "code",
   "execution_count": 23,
   "metadata": {
    "collapsed": true
   },
   "outputs": [],
   "source": [
    "# checkpoint\n",
    "filepath=\"weights.best.hdf5\"\n",
    "checkpoint = ModelCheckpoint(filepath, monitor='val_acc', verbose=0, save_best_only=True, mode='max')\n",
    "callbacks_list = [checkpoint]"
   ]
  },
  {
   "cell_type": "code",
   "execution_count": 24,
   "metadata": {
    "scrolled": false
   },
   "outputs": [
    {
     "name": "stdout",
     "output_type": "stream",
     "text": [
      "Train on 345303 samples, validate on 86326 samples\n",
      "Epoch 1/5\n",
      "345303/345303 [==============================] - 446s 1ms/step - loss: 0.5589 - acc: 0.8201 - val_loss: 0.3619 - val_acc: 0.8982\n",
      "Epoch 2/5\n",
      "345303/345303 [==============================] - 442s 1ms/step - loss: 0.3654 - acc: 0.8864 - val_loss: 0.3979 - val_acc: 0.8916\n",
      "Epoch 3/5\n",
      "345303/345303 [==============================] - 441s 1ms/step - loss: 0.3350 - acc: 0.8964 - val_loss: 0.3921 - val_acc: 0.8857\n",
      "Epoch 4/5\n",
      "345303/345303 [==============================] - 443s 1ms/step - loss: 0.3153 - acc: 0.9025 - val_loss: 0.3644 - val_acc: 0.9029\n",
      "Epoch 5/5\n",
      "345303/345303 [==============================] - 443s 1ms/step - loss: 0.3006 - acc: 0.9073 - val_loss: 0.3425 - val_acc: 0.9081\n"
     ]
    }
   ],
   "source": [
    "batch_size = 300\n",
    "epochs = 5\n",
    "history = model.fit(X_train, y_train, \n",
    "                    epochs=epochs,\n",
    "                    validation_data = (X_test, y_test),\n",
    "                    class_weight = class_weight,\n",
    "                    batch_size=batch_size,\n",
    "                    callbacks=callbacks_list, \n",
    "                    verbose=1)"
   ]
  },
  {
   "cell_type": "code",
   "execution_count": 25,
   "metadata": {
    "collapsed": true
   },
   "outputs": [],
   "source": [
    "#load the best one\n",
    "model.load_weights(\"weights.best.hdf5\")\n",
    "model.compile(optimizer='RMSprop',\n",
    "              loss='categorical_crossentropy',\n",
    "              metrics=['accuracy'])"
   ]
  },
  {
   "cell_type": "code",
   "execution_count": 26,
   "metadata": {},
   "outputs": [
    {
     "name": "stdout",
     "output_type": "stream",
     "text": [
      "              precision    recall  f1-score   support\n",
      "\n",
      "    business       0.85      0.91      0.88      9121\n",
      "     culture       0.79      0.73      0.76      1697\n",
      " environment       0.87      0.84      0.85      4860\n",
      "     fashion       0.69      0.84      0.76      1250\n",
      "    football       0.97      0.99      0.98     15889\n",
      "lifeandstyle       0.86      0.83      0.85      8298\n",
      "    politics       0.86      0.90      0.88      6841\n",
      "       sport       0.97      0.97      0.97     16880\n",
      "  technology       0.85      0.92      0.88      3893\n",
      "      travel       0.91      0.82      0.86      1772\n",
      "       world       0.91      0.86      0.89     15825\n",
      "\n",
      " avg / total       0.91      0.91      0.91     86326\n",
      "\n"
     ]
    }
   ],
   "source": [
    "pred = np.argmax(model.predict(X_test), axis=1)\n",
    "true = np.argmax(y_test, axis=1)\n",
    "print(classification_report(true, pred, target_names=list(le.classes_)))"
   ]
  },
  {
   "cell_type": "code",
   "execution_count": 27,
   "metadata": {},
   "outputs": [
    {
     "data": {
      "text/plain": [
       "dict_keys(['val_loss', 'val_acc', 'loss', 'acc'])"
      ]
     },
     "execution_count": 27,
     "metadata": {},
     "output_type": "execute_result"
    }
   ],
   "source": [
    "history.history.keys()"
   ]
  },
  {
   "cell_type": "code",
   "execution_count": 28,
   "metadata": {},
   "outputs": [
    {
     "data": {
      "image/png": "[encoded data removed]",
      "text/plain": [
       "<matplotlib.figure.Figure at 0x234dcf83518>"
      ]
     },
     "metadata": {},
     "output_type": "display_data"
    }
   ],
   "source": [
    "fig = plt.figure(figsize=(10,5), dpi=100, facecolor='white')\n",
    "plt.plot(np.arange(1,epochs+1),history.history['acc'])\n",
    "plt.plot(np.arange(1,epochs+1),history.history['val_acc'])\n",
    "plt.xticks(np.arange(1,epochs+1))\n",
    "plt.title('model accuracy')\n",
    "plt.ylabel('accuracy')\n",
    "plt.xlabel('epoch')\n",
    "plt.legend(['train', 'test'], loc='upper left')\n",
    "plt.show()"
   ]
  },
  {
   "cell_type": "code",
   "execution_count": 29,
   "metadata": {},
   "outputs": [
    {
     "data": {
      "image/png": "[encoded data removed]",
      "text/plain": [
       "<matplotlib.figure.Figure at 0x234dcf833c8>"
      ]
     },
     "metadata": {},
     "output_type": "display_data"
    }
   ],
   "source": [
    "fig = plt.figure(figsize=(10,5), dpi=100, facecolor='white')\n",
    "plt.plot(np.arange(1,epochs+1),history.history['loss'])\n",
    "plt.plot(np.arange(1,epochs+1),history.history['val_loss'])\n",
    "plt.xticks(np.arange(1,epochs+1))\n",
    "plt.title('model loss')\n",
    "plt.ylabel('loss')\n",
    "plt.xlabel('epoch')\n",
    "plt.legend(['train', 'test'], loc='upper left')\n",
    "plt.show()"
   ]
  },
  {
   "cell_type": "code",
   "execution_count": 30,
   "metadata": {},
   "outputs": [
    {
     "name": "stdout",
     "output_type": "stream",
     "text": [
      "acc: 90.81%\n"
     ]
    }
   ],
   "source": [
    "scores = model.evaluate(X_test, y_test, verbose=0)\n",
    "print(\"{}: {:.2f}%\".format(model.metrics_names[1], scores[1]*100))"
   ]
  },
  {
   "cell_type": "markdown",
   "metadata": {},
   "source": [
    "# acc: 90.81% !!!!!!!!!!!!!!!!!!!!!!!!!!!!!!!"
   ]
  },
  {
   "cell_type": "code",
   "execution_count": 31,
   "metadata": {},
   "outputs": [
    {
     "name": "stdout",
     "output_type": "stream",
     "text": [
      "the progress of this jupyter notebook cost: 43.616 minutes\n"
     ]
    }
   ],
   "source": [
    "print('the progress of this jupyter notebook cost: {:.3f} minutes'.format((time.time()-t0)/60))"
   ]
  }
 ],
 "metadata": {
  "kernelspec": {
   "display_name": "Python 3",
   "language": "python",
   "name": "python3"
  },
  "language_info": {
   "codemirror_mode": {
    "name": "ipython",
    "version": 3
   },
   "file_extension": ".py",
   "mimetype": "text/x-python",
   "name": "python",
   "nbconvert_exporter": "python",
   "pygments_lexer": "ipython3",
   "version": "3.6.1"
  }
 },
 "nbformat": 4,
 "nbformat_minor": 2
}
